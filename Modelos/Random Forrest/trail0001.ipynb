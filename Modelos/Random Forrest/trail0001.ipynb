{
 "cells": [
  {
   "cell_type": "code",
   "execution_count": 1,
   "metadata": {},
   "outputs": [],
   "source": [
    "# Ventana de tiempo prepandemia \n",
    "import pandas as pd  # Pandas proporciona estructuras de datos y herramientas para el análisis de datos.\n",
    "import seaborn as sns  # Seaborn es una biblioteca de visualización de datos basada en matplotlib.\n",
    "import matplotlib.pyplot as plt  # Matplotlib es una biblioteca de gráficos 2D que produce figuras de calidad de publicación.\n",
    "from pathlib import Path  # Pathlib ofrece clases para manejar rutas de archivos de manera orientada a objetos.\n",
    "from sklearn import metrics\n",
    "from sklearn.model_selection import train_test_split\n",
    "import os  # La biblioteca os permite interactuar con el sistema operativo."
   ]
  },
  {
   "cell_type": "code",
   "execution_count": 2,
   "metadata": {},
   "outputs": [],
   "source": [
    "s_path = Path.cwd()  # Obtiene el directorio de trabajo actual como un objeto Path.\n",
    "s_prt_path = s_path.parent/'..'/'Datasets' # Accede al directorio padre del directorio actual. Utilizamos '..' para subir un nivel en la jerarquía de directorios.\n",
    "ruta_carpeta_atras = s_prt_path.resolve() # Normalizamos la ruta para resolver cualquier ruta relativa\n",
    "ruta_csv = os.path.join(s_prt_path,'DataPrepandemia_XM.csv')  # Crea una ruta al archivo CSV en el directorio padre.\n",
    "df_DataModel= pd.read_csv(ruta_csv)  # Lee el archivo CSV en un DataFrame de pandas."
   ]
  },
  {
   "cell_type": "code",
   "execution_count": 3,
   "metadata": {},
   "outputs": [],
   "source": [
    "df_DataModel['Date'] = pd.to_datetime(df_DataModel['Date'])  # Convierte la columna 'Date' a tipo datetime.\n",
    "df_DataModel.drop('Unnamed: 0', axis=1, inplace=True)  # Elimina la columna 'Unnamed: 0'."
   ]
  },
  {
   "cell_type": "code",
   "execution_count": 4,
   "metadata": {},
   "outputs": [
    {
     "name": "stdout",
     "output_type": "stream",
     "text": [
      "<class 'pandas.core.frame.DataFrame'>\n",
      "RangeIndex: 1461 entries, 0 to 1460\n",
      "Data columns (total 8 columns):\n",
      " #   Column     Non-Null Count  Dtype         \n",
      "---  ------     --------------  -----         \n",
      " 0   Date       1461 non-null   datetime64[ns]\n",
      " 1   Demanda    1461 non-null   float64       \n",
      " 2   VolUtil    1461 non-null   float64       \n",
      " 3   Aportes    1461 non-null   float64       \n",
      " 4   PrecioB    1461 non-null   float64       \n",
      " 5   PrecioO    1461 non-null   float64       \n",
      " 6   DispTer    1461 non-null   float64       \n",
      " 7   DispNoTer  1461 non-null   float64       \n",
      "dtypes: datetime64[ns](1), float64(7)\n",
      "memory usage: 91.4 KB\n"
     ]
    }
   ],
   "source": [
    "df_DataModel.info()"
   ]
  },
  {
   "cell_type": "code",
   "execution_count": 6,
   "metadata": {},
   "outputs": [],
   "source": [
    "# Establece la fecha límite hasta la cual deseas mantener los datos para el entrenamiento\n",
    "fecha_entrenamiento = pd.to_datetime('2019-12-31')"
   ]
  },
  {
   "cell_type": "code",
   "execution_count": 8,
   "metadata": {},
   "outputs": [],
   "source": [
    "# Establece la fecha límite hasta la cual deseas mantener los datos para la prueba\n",
    "start_time = pd.to_datetime('2022-01-01')\n",
    "end_time = pd.to_datetime('2024-03-01')"
   ]
  },
  {
   "cell_type": "code",
   "execution_count": 9,
   "metadata": {},
   "outputs": [],
   "source": [
    "# Filtra el DataFrame\n",
    "filtered_df = df_DataModel[df_DataModel['Date'].between(start_time, end_time)]"
   ]
  },
  {
   "cell_type": "code",
   "execution_count": 10,
   "metadata": {},
   "outputs": [
    {
     "data": {
      "text/html": [
       "<div>\n",
       "<style scoped>\n",
       "    .dataframe tbody tr th:only-of-type {\n",
       "        vertical-align: middle;\n",
       "    }\n",
       "\n",
       "    .dataframe tbody tr th {\n",
       "        vertical-align: top;\n",
       "    }\n",
       "\n",
       "    .dataframe thead th {\n",
       "        text-align: right;\n",
       "    }\n",
       "</style>\n",
       "<table border=\"1\" class=\"dataframe\">\n",
       "  <thead>\n",
       "    <tr style=\"text-align: right;\">\n",
       "      <th></th>\n",
       "      <th>Date</th>\n",
       "      <th>Demanda</th>\n",
       "      <th>VolUtil</th>\n",
       "      <th>Aportes</th>\n",
       "      <th>PrecioB</th>\n",
       "      <th>PrecioO</th>\n",
       "      <th>DispTer</th>\n",
       "      <th>DispNoTer</th>\n",
       "    </tr>\n",
       "  </thead>\n",
       "  <tbody>\n",
       "  </tbody>\n",
       "</table>\n",
       "</div>"
      ],
      "text/plain": [
       "Empty DataFrame\n",
       "Columns: [Date, Demanda, VolUtil, Aportes, PrecioB, PrecioO, DispTer, DispNoTer]\n",
       "Index: []"
      ]
     },
     "execution_count": 10,
     "metadata": {},
     "output_type": "execute_result"
    }
   ],
   "source": [
    "filtered_df.head()"
   ]
  }
 ],
 "metadata": {
  "kernelspec": {
   "display_name": "Python 3",
   "language": "python",
   "name": "python3"
  },
  "language_info": {
   "codemirror_mode": {
    "name": "ipython",
    "version": 3
   },
   "file_extension": ".py",
   "mimetype": "text/x-python",
   "name": "python",
   "nbconvert_exporter": "python",
   "pygments_lexer": "ipython3",
   "version": "3.11.9"
  }
 },
 "nbformat": 4,
 "nbformat_minor": 2
}
